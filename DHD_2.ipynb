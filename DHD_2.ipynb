{
 "cells": [
  {
   "cell_type": "code",
   "execution_count": null,
   "metadata": {},
   "outputs": [],
   "source": [
    "from keras.models import load_model\n",
    "import cv2\n",
    "import numpy as np"
   ]
  },
  {
   "cell_type": "code",
   "execution_count": null,
   "metadata": {},
   "outputs": [],
   "source": [
    "#loading the models saved in the previous snippet of the code\n",
    "model1 = load_model('devanagari.h5')\n",
    "print(model1)"
   ]
  },
  {
   "cell_type": "code",
   "execution_count": null,
   "metadata": {},
   "outputs": [],
   "source": [
    "#making a dictionary of the tags\n",
    "letter_count = {0: 'CHECK', 1: 'ka', 2: 'kha', 3: 'ga', 4: 'gha', 5: 'kna', 6: 'cha', 7: 'chha', 8: 'ja', 9: 'jha', 10: 'yna',\n",
    "                11: 'ta', 12: 'tha', 13: 'da', 14: 'dha', 15: 'adna', 16: 'ta', 17: 'tha', 18: 'da', 19: 'dha', 20: 'na',\n",
    "                21: 'pa', 22: 'pha', 23: 'ba', 24: 'bha', 25: 'ma', 26: 'yaw', 27: 'ra', 28: 'la', 29: 'wa', 30: 'sha',\n",
    "                31: 'shathkon_wala', 32: 'sa', 33: 'ha', 34: 'shhya', 35: 'tra', 36: 'gya', 37: 'CHECK'}"
   ]
  },
  {
   "cell_type": "code",
   "execution_count": null,
   "metadata": {},
   "outputs": [],
   "source": [
    "def keras_process_image(img):\n",
    "    image_x = 32\n",
    "    image_y = 32\n",
    "    #resizing the input image just to be sure\n",
    "    img = cv2.resize(img, (image_x, image_y))\n",
    "    img = np.array(img, dtype=np.float32)\n",
    "    img = np.reshape(img, (-1, image_x, image_y, 1))\n",
    "    return img\n",
    "\n",
    "def keras_predict(model, image):\n",
    "    processed = keras_process_image(image)\n",
    "    #pred_prob is the probable answer of the model in form of 37x1 matrix\n",
    "    pred_prob = model.predict(processed)[0]\n",
    "    #finding the index of the class which it has predicted and storing it in pred_class\n",
    "    pred_class = list(pred_prob).index(max(pred_prob))\n",
    "    return max(pred_prob), pred_class"
   ]
  },
  {
   "cell_type": "code",
   "execution_count": null,
   "metadata": {},
   "outputs": [],
   "source": [
    "#for loop for the number of photos in the folder\n",
    "for i in range(8):\n",
    "    image = cv2.imread(r\"folder\\character_\"+str(i)+\".jpg\", cv2.IMREAD_GRAYSCALE)\n",
    "    pred_probab, pred_class = keras_predict(model1, image)\n",
    "    #letter_count[pred_class] is getting the tag from the dictionary and saving the image with its name\n",
    "    cv2.imwrite(r\"folder\\predicted\\ \"+letter_count[pred_class]+\".jpg\",image)"
   ]
  }
 ],
 "metadata": {
  "kernelspec": {
   "display_name": "Python 3",
   "language": "python",
   "name": "python3"
  },
  "language_info": {
   "codemirror_mode": {
    "name": "ipython",
    "version": 3
   },
   "file_extension": ".py",
   "mimetype": "text/x-python",
   "name": "python",
   "nbconvert_exporter": "python",
   "pygments_lexer": "ipython3",
   "version": "3.5.6"
  }
 },
 "nbformat": 4,
 "nbformat_minor": 2
}
